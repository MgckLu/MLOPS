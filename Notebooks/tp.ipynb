{
 "cells": [
  {
   "cell_type": "markdown",
   "id": "c6ab3a9c",
   "metadata": {},
   "source": [
    "# MLops"
   ]
  },
  {
   "cell_type": "code",
   "execution_count": 8,
   "id": "86097436",
   "metadata": {},
   "outputs": [],
   "source": [
    "import numpy as np\n",
    "import matplotlib.pyplot as plt"
   ]
  },
  {
   "cell_type": "code",
   "execution_count": 20,
   "id": "d27f5de6",
   "metadata": {},
   "outputs": [],
   "source": [
    "a=np.array([1,2,3])\n",
    "b=np.array([4,5,6])"
   ]
  },
  {
   "cell_type": "markdown",
   "id": "c7f35b76",
   "metadata": {},
   "source": [
    "### Opérations des vecteurs : "
   ]
  },
  {
   "cell_type": "code",
   "execution_count": 24,
   "id": "9bd9c161",
   "metadata": {},
   "outputs": [
    {
     "name": "stdout",
     "output_type": "stream",
     "text": [
      "[5 7 9]\n",
      "[3 3 3]\n",
      "[False False False]\n"
     ]
    }
   ],
   "source": [
    "su=a+b\n",
    "so=b-a\n",
    "di=a==b\n",
    "print(su)\n",
    "print(so)\n",
    "print(di)"
   ]
  },
  {
   "cell_type": "code",
   "execution_count": 26,
   "id": "19d76f92",
   "metadata": {},
   "outputs": [],
   "source": [
    "a=np.append(a,10)\n",
    "b=np.append(b,10)"
   ]
  },
  {
   "cell_type": "code",
   "execution_count": 27,
   "id": "d5328bfd",
   "metadata": {},
   "outputs": [
    {
     "data": {
      "text/plain": [
       "array([ 1,  2,  3, 10,  4,  5,  6, 10])"
      ]
     },
     "execution_count": 27,
     "metadata": {},
     "output_type": "execute_result"
    }
   ],
   "source": [
    "np.concatenate((a,b))"
   ]
  },
  {
   "cell_type": "code",
   "execution_count": null,
   "id": "3eb22d3e",
   "metadata": {},
   "outputs": [],
   "source": []
  },
  {
   "cell_type": "code",
   "execution_count": null,
   "id": "fc2b5bda",
   "metadata": {},
   "outputs": [],
   "source": []
  }
 ],
 "metadata": {
  "kernelspec": {
   "display_name": "Python 3 (ipykernel)",
   "language": "python",
   "name": "python3"
  },
  "language_info": {
   "codemirror_mode": {
    "name": "ipython",
    "version": 3
   },
   "file_extension": ".py",
   "mimetype": "text/x-python",
   "name": "python",
   "nbconvert_exporter": "python",
   "pygments_lexer": "ipython3",
   "version": "3.11.9"
  }
 },
 "nbformat": 4,
 "nbformat_minor": 5
}
